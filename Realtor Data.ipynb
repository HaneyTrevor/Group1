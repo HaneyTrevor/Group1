{
 "cells": [
  {
   "cell_type": "code",
   "execution_count": 78,
   "metadata": {},
   "outputs": [],
   "source": [
    "# Dependencies and Setup\n",
    "import pandas as pd\n",
    "import numpy as np\n",
    "import matplotlib.pyplot as plt\n",
    "import scipy.stats as sts\n",
    "import seaborn as sns\n",
    "from pprint import pprint\n",
    "from sqlalchemy import create_engine\n",
    "\n",
    "# File to Load (Remember to Change These)\n",
    "Zillow_df = pd.read_excel(\"Zillow Data.xlsx\")\n",
    "Realtor_df = pd.read_csv(\"RDC_Inventory_Core_Metrics_Zip_History 91910 92110.csv\")\n",
    "\n"
   ]
  },
  {
   "cell_type": "code",
   "execution_count": 79,
   "metadata": {},
   "outputs": [
    {
     "data": {
      "text/html": [
       "<div>\n",
       "<style scoped>\n",
       "    .dataframe tbody tr th:only-of-type {\n",
       "        vertical-align: middle;\n",
       "    }\n",
       "\n",
       "    .dataframe tbody tr th {\n",
       "        vertical-align: top;\n",
       "    }\n",
       "\n",
       "    .dataframe thead th {\n",
       "        text-align: right;\n",
       "    }\n",
       "</style>\n",
       "<table border=\"1\" class=\"dataframe\">\n",
       "  <thead>\n",
       "    <tr style=\"text-align: right;\">\n",
       "      <th></th>\n",
       "      <th>Website</th>\n",
       "      <th>Date</th>\n",
       "      <th>Postal_Code</th>\n",
       "      <th>City</th>\n",
       "      <th>median_listing_price</th>\n",
       "    </tr>\n",
       "  </thead>\n",
       "  <tbody>\n",
       "    <tr>\n",
       "      <th>0</th>\n",
       "      <td>Zillow</td>\n",
       "      <td>202009</td>\n",
       "      <td>91910</td>\n",
       "      <td>Chula Vista</td>\n",
       "      <td>629050.0</td>\n",
       "    </tr>\n",
       "    <tr>\n",
       "      <th>1</th>\n",
       "      <td>Zillow</td>\n",
       "      <td>202009</td>\n",
       "      <td>92110</td>\n",
       "      <td>San Diego</td>\n",
       "      <td>660050.0</td>\n",
       "    </tr>\n",
       "    <tr>\n",
       "      <th>2</th>\n",
       "      <td>Zillow</td>\n",
       "      <td>202008</td>\n",
       "      <td>91910</td>\n",
       "      <td>Chula Vista</td>\n",
       "      <td>629050.0</td>\n",
       "    </tr>\n",
       "    <tr>\n",
       "      <th>3</th>\n",
       "      <td>Zillow</td>\n",
       "      <td>202008</td>\n",
       "      <td>92110</td>\n",
       "      <td>San Diego</td>\n",
       "      <td>614050.0</td>\n",
       "    </tr>\n",
       "    <tr>\n",
       "      <th>4</th>\n",
       "      <td>Zillow</td>\n",
       "      <td>202007</td>\n",
       "      <td>91910</td>\n",
       "      <td>Chula Vista</td>\n",
       "      <td>620050.0</td>\n",
       "    </tr>\n",
       "  </tbody>\n",
       "</table>\n",
       "</div>"
      ],
      "text/plain": [
       "  Website    Date  Postal_Code         City  median_listing_price\n",
       "0  Zillow  202009        91910  Chula Vista              629050.0\n",
       "1  Zillow  202009        92110    San Diego              660050.0\n",
       "2  Zillow  202008        91910  Chula Vista              629050.0\n",
       "3  Zillow  202008        92110    San Diego              614050.0\n",
       "4  Zillow  202007        91910  Chula Vista              620050.0"
      ]
     },
     "execution_count": 79,
     "metadata": {},
     "output_type": "execute_result"
    }
   ],
   "source": [
    "Zillow_df.head()"
   ]
  },
  {
   "cell_type": "code",
   "execution_count": 80,
   "metadata": {},
   "outputs": [
    {
     "data": {
      "text/html": [
       "<div>\n",
       "<style scoped>\n",
       "    .dataframe tbody tr th:only-of-type {\n",
       "        vertical-align: middle;\n",
       "    }\n",
       "\n",
       "    .dataframe tbody tr th {\n",
       "        vertical-align: top;\n",
       "    }\n",
       "\n",
       "    .dataframe thead th {\n",
       "        text-align: right;\n",
       "    }\n",
       "</style>\n",
       "<table border=\"1\" class=\"dataframe\">\n",
       "  <thead>\n",
       "    <tr style=\"text-align: right;\">\n",
       "      <th></th>\n",
       "      <th>Website</th>\n",
       "      <th>Date</th>\n",
       "      <th>Postal_Code</th>\n",
       "      <th>City</th>\n",
       "      <th>median_listing_price</th>\n",
       "    </tr>\n",
       "  </thead>\n",
       "  <tbody>\n",
       "    <tr>\n",
       "      <th>0</th>\n",
       "      <td>Realtor</td>\n",
       "      <td>202010</td>\n",
       "      <td>91910</td>\n",
       "      <td>Chula Vista</td>\n",
       "      <td>619050.0</td>\n",
       "    </tr>\n",
       "    <tr>\n",
       "      <th>1</th>\n",
       "      <td>Realtor</td>\n",
       "      <td>202010</td>\n",
       "      <td>92110</td>\n",
       "      <td>San Diego</td>\n",
       "      <td>650050.0</td>\n",
       "    </tr>\n",
       "    <tr>\n",
       "      <th>2</th>\n",
       "      <td>Realtor</td>\n",
       "      <td>202009</td>\n",
       "      <td>92110</td>\n",
       "      <td>San Diego</td>\n",
       "      <td>619050.0</td>\n",
       "    </tr>\n",
       "    <tr>\n",
       "      <th>3</th>\n",
       "      <td>Realtor</td>\n",
       "      <td>202009</td>\n",
       "      <td>91910</td>\n",
       "      <td>Chula Vista</td>\n",
       "      <td>604050.0</td>\n",
       "    </tr>\n",
       "    <tr>\n",
       "      <th>4</th>\n",
       "      <td>Realtor</td>\n",
       "      <td>202008</td>\n",
       "      <td>91910</td>\n",
       "      <td>Chula Vista</td>\n",
       "      <td>610050.0</td>\n",
       "    </tr>\n",
       "  </tbody>\n",
       "</table>\n",
       "</div>"
      ],
      "text/plain": [
       "   Website    Date  Postal_Code         City  median_listing_price\n",
       "0  Realtor  202010        91910  Chula Vista              619050.0\n",
       "1  Realtor  202010        92110    San Diego              650050.0\n",
       "2  Realtor  202009        92110    San Diego              619050.0\n",
       "3  Realtor  202009        91910  Chula Vista              604050.0\n",
       "4  Realtor  202008        91910  Chula Vista              610050.0"
      ]
     },
     "execution_count": 80,
     "metadata": {},
     "output_type": "execute_result"
    }
   ],
   "source": [
    "Realtor_df.head()"
   ]
  },
  {
   "cell_type": "code",
   "execution_count": 81,
   "metadata": {},
   "outputs": [],
   "source": [
    "realtor_data_complete_df = pd.merge(Zillow_df, Realtor_df, how=\"outer\", left_on=[\"Postal_Code\", \"Date\",\"City\"], right_on=[\"Postal_Code\", \"Date\",\"City\"])"
   ]
  },
  {
   "cell_type": "code",
   "execution_count": 82,
   "metadata": {},
   "outputs": [
    {
     "data": {
      "text/html": [
       "<div>\n",
       "<style scoped>\n",
       "    .dataframe tbody tr th:only-of-type {\n",
       "        vertical-align: middle;\n",
       "    }\n",
       "\n",
       "    .dataframe tbody tr th {\n",
       "        vertical-align: top;\n",
       "    }\n",
       "\n",
       "    .dataframe thead th {\n",
       "        text-align: right;\n",
       "    }\n",
       "</style>\n",
       "<table border=\"1\" class=\"dataframe\">\n",
       "  <thead>\n",
       "    <tr style=\"text-align: right;\">\n",
       "      <th></th>\n",
       "      <th>Website_x</th>\n",
       "      <th>Date</th>\n",
       "      <th>Postal_Code</th>\n",
       "      <th>City</th>\n",
       "      <th>median_listing_price_x</th>\n",
       "      <th>Website_y</th>\n",
       "      <th>median_listing_price_y</th>\n",
       "    </tr>\n",
       "  </thead>\n",
       "  <tbody>\n",
       "    <tr>\n",
       "      <th>0</th>\n",
       "      <td>Zillow</td>\n",
       "      <td>202009</td>\n",
       "      <td>91910</td>\n",
       "      <td>Chula Vista</td>\n",
       "      <td>629050.0</td>\n",
       "      <td>Realtor</td>\n",
       "      <td>604050.0</td>\n",
       "    </tr>\n",
       "    <tr>\n",
       "      <th>1</th>\n",
       "      <td>Zillow</td>\n",
       "      <td>202009</td>\n",
       "      <td>92110</td>\n",
       "      <td>San Diego</td>\n",
       "      <td>660050.0</td>\n",
       "      <td>Realtor</td>\n",
       "      <td>619050.0</td>\n",
       "    </tr>\n",
       "    <tr>\n",
       "      <th>2</th>\n",
       "      <td>Zillow</td>\n",
       "      <td>202008</td>\n",
       "      <td>91910</td>\n",
       "      <td>Chula Vista</td>\n",
       "      <td>629050.0</td>\n",
       "      <td>Realtor</td>\n",
       "      <td>610050.0</td>\n",
       "    </tr>\n",
       "    <tr>\n",
       "      <th>3</th>\n",
       "      <td>Zillow</td>\n",
       "      <td>202008</td>\n",
       "      <td>92110</td>\n",
       "      <td>San Diego</td>\n",
       "      <td>614050.0</td>\n",
       "      <td>Realtor</td>\n",
       "      <td>600050.0</td>\n",
       "    </tr>\n",
       "    <tr>\n",
       "      <th>4</th>\n",
       "      <td>Zillow</td>\n",
       "      <td>202007</td>\n",
       "      <td>91910</td>\n",
       "      <td>Chula Vista</td>\n",
       "      <td>620050.0</td>\n",
       "      <td>Realtor</td>\n",
       "      <td>614550.0</td>\n",
       "    </tr>\n",
       "  </tbody>\n",
       "</table>\n",
       "</div>"
      ],
      "text/plain": [
       "  Website_x    Date  Postal_Code         City  median_listing_price_x  \\\n",
       "0    Zillow  202009        91910  Chula Vista                629050.0   \n",
       "1    Zillow  202009        92110    San Diego                660050.0   \n",
       "2    Zillow  202008        91910  Chula Vista                629050.0   \n",
       "3    Zillow  202008        92110    San Diego                614050.0   \n",
       "4    Zillow  202007        91910  Chula Vista                620050.0   \n",
       "\n",
       "  Website_y  median_listing_price_y  \n",
       "0   Realtor                604050.0  \n",
       "1   Realtor                619050.0  \n",
       "2   Realtor                610050.0  \n",
       "3   Realtor                600050.0  \n",
       "4   Realtor                614550.0  "
      ]
     },
     "execution_count": 82,
     "metadata": {},
     "output_type": "execute_result"
    }
   ],
   "source": [
    "realtor_data_complete_df.head()"
   ]
  },
  {
   "cell_type": "code",
   "execution_count": 83,
   "metadata": {},
   "outputs": [],
   "source": [
    "realtor_data_complete_df = realtor_data_complete_df.dropna(how='any')"
   ]
  },
  {
   "cell_type": "code",
   "execution_count": 84,
   "metadata": {},
   "outputs": [
    {
     "name": "stdout",
     "output_type": "stream",
     "text": [
      "102\n"
     ]
    }
   ],
   "source": [
    "index = realtor_data_complete_df.index\n",
    "number_of_rows = len(index)\n",
    "print(number_of_rows)"
   ]
  },
  {
   "cell_type": "code",
   "execution_count": 85,
   "metadata": {},
   "outputs": [
    {
     "data": {
      "text/plain": [
       "Website_x                  object\n",
       "Date                        int64\n",
       "Postal_Code                 int64\n",
       "City                       object\n",
       "median_listing_price_x    float64\n",
       "Website_y                  object\n",
       "median_listing_price_y    float64\n",
       "dtype: object"
      ]
     },
     "execution_count": 85,
     "metadata": {},
     "output_type": "execute_result"
    }
   ],
   "source": [
    "realtor_data_complete_df.dtypes"
   ]
  },
  {
   "cell_type": "code",
   "execution_count": 86,
   "metadata": {},
   "outputs": [],
   "source": [
    "realtor_data_complete_df['Postal_Code'] = realtor_data_complete_df['Postal_Code'].astype('int64')\n",
    "realtor_data_complete_df['Date'] = pd.to_datetime(realtor_data_complete_df['Date'].astype(str), format='%Y%m')\n"
   ]
  },
  {
   "cell_type": "code",
   "execution_count": 87,
   "metadata": {},
   "outputs": [
    {
     "data": {
      "text/plain": [
       "Website_x                         object\n",
       "Date                      datetime64[ns]\n",
       "Postal_Code                        int64\n",
       "City                              object\n",
       "median_listing_price_x           float64\n",
       "Website_y                         object\n",
       "median_listing_price_y           float64\n",
       "dtype: object"
      ]
     },
     "execution_count": 87,
     "metadata": {},
     "output_type": "execute_result"
    }
   ],
   "source": [
    "realtor_data_complete_df.dtypes"
   ]
  },
  {
   "cell_type": "code",
   "execution_count": 88,
   "metadata": {},
   "outputs": [
    {
     "data": {
      "text/html": [
       "<div>\n",
       "<style scoped>\n",
       "    .dataframe tbody tr th:only-of-type {\n",
       "        vertical-align: middle;\n",
       "    }\n",
       "\n",
       "    .dataframe tbody tr th {\n",
       "        vertical-align: top;\n",
       "    }\n",
       "\n",
       "    .dataframe thead th {\n",
       "        text-align: right;\n",
       "    }\n",
       "</style>\n",
       "<table border=\"1\" class=\"dataframe\">\n",
       "  <thead>\n",
       "    <tr style=\"text-align: right;\">\n",
       "      <th></th>\n",
       "      <th>Website_x</th>\n",
       "      <th>Date</th>\n",
       "      <th>Postal_Code</th>\n",
       "      <th>City</th>\n",
       "      <th>median_listing_price_x</th>\n",
       "      <th>Website_y</th>\n",
       "      <th>median_listing_price_y</th>\n",
       "    </tr>\n",
       "  </thead>\n",
       "  <tbody>\n",
       "    <tr>\n",
       "      <th>0</th>\n",
       "      <td>Zillow</td>\n",
       "      <td>2020-09-01</td>\n",
       "      <td>91910</td>\n",
       "      <td>Chula Vista</td>\n",
       "      <td>629050.0</td>\n",
       "      <td>Realtor</td>\n",
       "      <td>604050.0</td>\n",
       "    </tr>\n",
       "    <tr>\n",
       "      <th>1</th>\n",
       "      <td>Zillow</td>\n",
       "      <td>2020-09-01</td>\n",
       "      <td>92110</td>\n",
       "      <td>San Diego</td>\n",
       "      <td>660050.0</td>\n",
       "      <td>Realtor</td>\n",
       "      <td>619050.0</td>\n",
       "    </tr>\n",
       "    <tr>\n",
       "      <th>2</th>\n",
       "      <td>Zillow</td>\n",
       "      <td>2020-08-01</td>\n",
       "      <td>91910</td>\n",
       "      <td>Chula Vista</td>\n",
       "      <td>629050.0</td>\n",
       "      <td>Realtor</td>\n",
       "      <td>610050.0</td>\n",
       "    </tr>\n",
       "    <tr>\n",
       "      <th>3</th>\n",
       "      <td>Zillow</td>\n",
       "      <td>2020-08-01</td>\n",
       "      <td>92110</td>\n",
       "      <td>San Diego</td>\n",
       "      <td>614050.0</td>\n",
       "      <td>Realtor</td>\n",
       "      <td>600050.0</td>\n",
       "    </tr>\n",
       "    <tr>\n",
       "      <th>4</th>\n",
       "      <td>Zillow</td>\n",
       "      <td>2020-07-01</td>\n",
       "      <td>91910</td>\n",
       "      <td>Chula Vista</td>\n",
       "      <td>620050.0</td>\n",
       "      <td>Realtor</td>\n",
       "      <td>614550.0</td>\n",
       "    </tr>\n",
       "  </tbody>\n",
       "</table>\n",
       "</div>"
      ],
      "text/plain": [
       "  Website_x       Date  Postal_Code         City  median_listing_price_x  \\\n",
       "0    Zillow 2020-09-01        91910  Chula Vista                629050.0   \n",
       "1    Zillow 2020-09-01        92110    San Diego                660050.0   \n",
       "2    Zillow 2020-08-01        91910  Chula Vista                629050.0   \n",
       "3    Zillow 2020-08-01        92110    San Diego                614050.0   \n",
       "4    Zillow 2020-07-01        91910  Chula Vista                620050.0   \n",
       "\n",
       "  Website_y  median_listing_price_y  \n",
       "0   Realtor                604050.0  \n",
       "1   Realtor                619050.0  \n",
       "2   Realtor                610050.0  \n",
       "3   Realtor                600050.0  \n",
       "4   Realtor                614550.0  "
      ]
     },
     "execution_count": 88,
     "metadata": {},
     "output_type": "execute_result"
    }
   ],
   "source": [
    "realtor_data_complete_df.head()"
   ]
  },
  {
   "cell_type": "code",
   "execution_count": 89,
   "metadata": {},
   "outputs": [],
   "source": [
    "clean_realtor_df= realtor_data_complete_df.rename(columns={\n",
    "    'median_listing_price_x': 'zillow_median_listing_price', 'median_listing_price_y': 'realtor_median_listing_price', 'Website_x': 'website_x', 'Website_y': 'website_y'})\n"
   ]
  },
  {
   "cell_type": "code",
   "execution_count": 90,
   "metadata": {},
   "outputs": [
    {
     "data": {
      "text/html": [
       "<div>\n",
       "<style scoped>\n",
       "    .dataframe tbody tr th:only-of-type {\n",
       "        vertical-align: middle;\n",
       "    }\n",
       "\n",
       "    .dataframe tbody tr th {\n",
       "        vertical-align: top;\n",
       "    }\n",
       "\n",
       "    .dataframe thead th {\n",
       "        text-align: right;\n",
       "    }\n",
       "</style>\n",
       "<table border=\"1\" class=\"dataframe\">\n",
       "  <thead>\n",
       "    <tr style=\"text-align: right;\">\n",
       "      <th></th>\n",
       "      <th>website_x</th>\n",
       "      <th>Date</th>\n",
       "      <th>Postal_Code</th>\n",
       "      <th>City</th>\n",
       "      <th>zillow_median_listing_price</th>\n",
       "      <th>website_y</th>\n",
       "      <th>realtor_median_listing_price</th>\n",
       "    </tr>\n",
       "  </thead>\n",
       "  <tbody>\n",
       "    <tr>\n",
       "      <th>0</th>\n",
       "      <td>Zillow</td>\n",
       "      <td>2020-09-01</td>\n",
       "      <td>91910</td>\n",
       "      <td>Chula Vista</td>\n",
       "      <td>629050.0</td>\n",
       "      <td>Realtor</td>\n",
       "      <td>604050.0</td>\n",
       "    </tr>\n",
       "    <tr>\n",
       "      <th>1</th>\n",
       "      <td>Zillow</td>\n",
       "      <td>2020-09-01</td>\n",
       "      <td>92110</td>\n",
       "      <td>San Diego</td>\n",
       "      <td>660050.0</td>\n",
       "      <td>Realtor</td>\n",
       "      <td>619050.0</td>\n",
       "    </tr>\n",
       "    <tr>\n",
       "      <th>2</th>\n",
       "      <td>Zillow</td>\n",
       "      <td>2020-08-01</td>\n",
       "      <td>91910</td>\n",
       "      <td>Chula Vista</td>\n",
       "      <td>629050.0</td>\n",
       "      <td>Realtor</td>\n",
       "      <td>610050.0</td>\n",
       "    </tr>\n",
       "    <tr>\n",
       "      <th>3</th>\n",
       "      <td>Zillow</td>\n",
       "      <td>2020-08-01</td>\n",
       "      <td>92110</td>\n",
       "      <td>San Diego</td>\n",
       "      <td>614050.0</td>\n",
       "      <td>Realtor</td>\n",
       "      <td>600050.0</td>\n",
       "    </tr>\n",
       "    <tr>\n",
       "      <th>4</th>\n",
       "      <td>Zillow</td>\n",
       "      <td>2020-07-01</td>\n",
       "      <td>91910</td>\n",
       "      <td>Chula Vista</td>\n",
       "      <td>620050.0</td>\n",
       "      <td>Realtor</td>\n",
       "      <td>614550.0</td>\n",
       "    </tr>\n",
       "  </tbody>\n",
       "</table>\n",
       "</div>"
      ],
      "text/plain": [
       "  website_x       Date  Postal_Code         City  zillow_median_listing_price  \\\n",
       "0    Zillow 2020-09-01        91910  Chula Vista                     629050.0   \n",
       "1    Zillow 2020-09-01        92110    San Diego                     660050.0   \n",
       "2    Zillow 2020-08-01        91910  Chula Vista                     629050.0   \n",
       "3    Zillow 2020-08-01        92110    San Diego                     614050.0   \n",
       "4    Zillow 2020-07-01        91910  Chula Vista                     620050.0   \n",
       "\n",
       "  website_y  realtor_median_listing_price  \n",
       "0   Realtor                      604050.0  \n",
       "1   Realtor                      619050.0  \n",
       "2   Realtor                      610050.0  \n",
       "3   Realtor                      600050.0  \n",
       "4   Realtor                      614550.0  "
      ]
     },
     "execution_count": 90,
     "metadata": {},
     "output_type": "execute_result"
    }
   ],
   "source": [
    "clean_realtor_df.head()"
   ]
  },
  {
   "cell_type": "code",
   "execution_count": 93,
   "metadata": {},
   "outputs": [],
   "source": [
    "clean_realtor_df = clean_realtor_df[['Date', 'Postal_Code', 'City', 'website_x', 'zillow_median_listing_price', 'website_y', 'realtor_median_listing_price']]"
   ]
  },
  {
   "cell_type": "code",
   "execution_count": 94,
   "metadata": {},
   "outputs": [
    {
     "data": {
      "text/html": [
       "<div>\n",
       "<style scoped>\n",
       "    .dataframe tbody tr th:only-of-type {\n",
       "        vertical-align: middle;\n",
       "    }\n",
       "\n",
       "    .dataframe tbody tr th {\n",
       "        vertical-align: top;\n",
       "    }\n",
       "\n",
       "    .dataframe thead th {\n",
       "        text-align: right;\n",
       "    }\n",
       "</style>\n",
       "<table border=\"1\" class=\"dataframe\">\n",
       "  <thead>\n",
       "    <tr style=\"text-align: right;\">\n",
       "      <th></th>\n",
       "      <th>Date</th>\n",
       "      <th>Postal_Code</th>\n",
       "      <th>City</th>\n",
       "      <th>website_x</th>\n",
       "      <th>zillow_median_listing_price</th>\n",
       "      <th>website_y</th>\n",
       "      <th>realtor_median_listing_price</th>\n",
       "    </tr>\n",
       "  </thead>\n",
       "  <tbody>\n",
       "    <tr>\n",
       "      <th>0</th>\n",
       "      <td>2020-09-01</td>\n",
       "      <td>91910</td>\n",
       "      <td>Chula Vista</td>\n",
       "      <td>Zillow</td>\n",
       "      <td>629050.0</td>\n",
       "      <td>Realtor</td>\n",
       "      <td>604050.0</td>\n",
       "    </tr>\n",
       "    <tr>\n",
       "      <th>1</th>\n",
       "      <td>2020-09-01</td>\n",
       "      <td>92110</td>\n",
       "      <td>San Diego</td>\n",
       "      <td>Zillow</td>\n",
       "      <td>660050.0</td>\n",
       "      <td>Realtor</td>\n",
       "      <td>619050.0</td>\n",
       "    </tr>\n",
       "    <tr>\n",
       "      <th>2</th>\n",
       "      <td>2020-08-01</td>\n",
       "      <td>91910</td>\n",
       "      <td>Chula Vista</td>\n",
       "      <td>Zillow</td>\n",
       "      <td>629050.0</td>\n",
       "      <td>Realtor</td>\n",
       "      <td>610050.0</td>\n",
       "    </tr>\n",
       "    <tr>\n",
       "      <th>3</th>\n",
       "      <td>2020-08-01</td>\n",
       "      <td>92110</td>\n",
       "      <td>San Diego</td>\n",
       "      <td>Zillow</td>\n",
       "      <td>614050.0</td>\n",
       "      <td>Realtor</td>\n",
       "      <td>600050.0</td>\n",
       "    </tr>\n",
       "    <tr>\n",
       "      <th>4</th>\n",
       "      <td>2020-07-01</td>\n",
       "      <td>91910</td>\n",
       "      <td>Chula Vista</td>\n",
       "      <td>Zillow</td>\n",
       "      <td>620050.0</td>\n",
       "      <td>Realtor</td>\n",
       "      <td>614550.0</td>\n",
       "    </tr>\n",
       "  </tbody>\n",
       "</table>\n",
       "</div>"
      ],
      "text/plain": [
       "        Date  Postal_Code         City website_x  zillow_median_listing_price  \\\n",
       "0 2020-09-01        91910  Chula Vista    Zillow                     629050.0   \n",
       "1 2020-09-01        92110    San Diego    Zillow                     660050.0   \n",
       "2 2020-08-01        91910  Chula Vista    Zillow                     629050.0   \n",
       "3 2020-08-01        92110    San Diego    Zillow                     614050.0   \n",
       "4 2020-07-01        91910  Chula Vista    Zillow                     620050.0   \n",
       "\n",
       "  website_y  realtor_median_listing_price  \n",
       "0   Realtor                      604050.0  \n",
       "1   Realtor                      619050.0  \n",
       "2   Realtor                      610050.0  \n",
       "3   Realtor                      600050.0  \n",
       "4   Realtor                      614550.0  "
      ]
     },
     "execution_count": 94,
     "metadata": {},
     "output_type": "execute_result"
    }
   ],
   "source": [
    "clean_realtor_df.head()"
   ]
  },
  {
   "cell_type": "code",
   "execution_count": 98,
   "metadata": {},
   "outputs": [
    {
     "data": {
      "text/html": [
       "<div>\n",
       "<style scoped>\n",
       "    .dataframe tbody tr th:only-of-type {\n",
       "        vertical-align: middle;\n",
       "    }\n",
       "\n",
       "    .dataframe tbody tr th {\n",
       "        vertical-align: top;\n",
       "    }\n",
       "\n",
       "    .dataframe thead th {\n",
       "        text-align: right;\n",
       "    }\n",
       "</style>\n",
       "<table border=\"1\" class=\"dataframe\">\n",
       "  <thead>\n",
       "    <tr style=\"text-align: right;\">\n",
       "      <th></th>\n",
       "      <th>website_x</th>\n",
       "      <th>zillow_median_listing_price</th>\n",
       "    </tr>\n",
       "  </thead>\n",
       "  <tbody>\n",
       "    <tr>\n",
       "      <th>0</th>\n",
       "      <td>Zillow</td>\n",
       "      <td>629050.0</td>\n",
       "    </tr>\n",
       "    <tr>\n",
       "      <th>1</th>\n",
       "      <td>Zillow</td>\n",
       "      <td>660050.0</td>\n",
       "    </tr>\n",
       "    <tr>\n",
       "      <th>2</th>\n",
       "      <td>Zillow</td>\n",
       "      <td>629050.0</td>\n",
       "    </tr>\n",
       "    <tr>\n",
       "      <th>3</th>\n",
       "      <td>Zillow</td>\n",
       "      <td>614050.0</td>\n",
       "    </tr>\n",
       "    <tr>\n",
       "      <th>4</th>\n",
       "      <td>Zillow</td>\n",
       "      <td>620050.0</td>\n",
       "    </tr>\n",
       "  </tbody>\n",
       "</table>\n",
       "</div>"
      ],
      "text/plain": [
       "  website_x  zillow_median_listing_price\n",
       "0    Zillow                     629050.0\n",
       "1    Zillow                     660050.0\n",
       "2    Zillow                     629050.0\n",
       "3    Zillow                     614050.0\n",
       "4    Zillow                     620050.0"
      ]
     },
     "execution_count": 98,
     "metadata": {},
     "output_type": "execute_result"
    }
   ],
   "source": [
    "zillow_info_df = clean_realtor_df[['website_x', 'zillow_median_listing_price']].copy()\n",
    "zillow_info_df.head()"
   ]
  },
  {
   "cell_type": "code",
   "execution_count": 99,
   "metadata": {},
   "outputs": [
    {
     "data": {
      "text/html": [
       "<div>\n",
       "<style scoped>\n",
       "    .dataframe tbody tr th:only-of-type {\n",
       "        vertical-align: middle;\n",
       "    }\n",
       "\n",
       "    .dataframe tbody tr th {\n",
       "        vertical-align: top;\n",
       "    }\n",
       "\n",
       "    .dataframe thead th {\n",
       "        text-align: right;\n",
       "    }\n",
       "</style>\n",
       "<table border=\"1\" class=\"dataframe\">\n",
       "  <thead>\n",
       "    <tr style=\"text-align: right;\">\n",
       "      <th></th>\n",
       "      <th>website_y</th>\n",
       "      <th>realtor_median_listing_price</th>\n",
       "    </tr>\n",
       "  </thead>\n",
       "  <tbody>\n",
       "    <tr>\n",
       "      <th>0</th>\n",
       "      <td>Realtor</td>\n",
       "      <td>604050.0</td>\n",
       "    </tr>\n",
       "    <tr>\n",
       "      <th>1</th>\n",
       "      <td>Realtor</td>\n",
       "      <td>619050.0</td>\n",
       "    </tr>\n",
       "    <tr>\n",
       "      <th>2</th>\n",
       "      <td>Realtor</td>\n",
       "      <td>610050.0</td>\n",
       "    </tr>\n",
       "    <tr>\n",
       "      <th>3</th>\n",
       "      <td>Realtor</td>\n",
       "      <td>600050.0</td>\n",
       "    </tr>\n",
       "    <tr>\n",
       "      <th>4</th>\n",
       "      <td>Realtor</td>\n",
       "      <td>614550.0</td>\n",
       "    </tr>\n",
       "  </tbody>\n",
       "</table>\n",
       "</div>"
      ],
      "text/plain": [
       "  website_y  realtor_median_listing_price\n",
       "0   Realtor                      604050.0\n",
       "1   Realtor                      619050.0\n",
       "2   Realtor                      610050.0\n",
       "3   Realtor                      600050.0\n",
       "4   Realtor                      614550.0"
      ]
     },
     "execution_count": 99,
     "metadata": {},
     "output_type": "execute_result"
    }
   ],
   "source": [
    "realtor_info_df = clean_realtor_df[['website_y', 'realtor_median_listing_price']].copy()\n",
    "realtor_info_df.head()"
   ]
  },
  {
   "cell_type": "code",
   "execution_count": 100,
   "metadata": {},
   "outputs": [
    {
     "data": {
      "text/html": [
       "<div>\n",
       "<style scoped>\n",
       "    .dataframe tbody tr th:only-of-type {\n",
       "        vertical-align: middle;\n",
       "    }\n",
       "\n",
       "    .dataframe tbody tr th {\n",
       "        vertical-align: top;\n",
       "    }\n",
       "\n",
       "    .dataframe thead th {\n",
       "        text-align: right;\n",
       "    }\n",
       "</style>\n",
       "<table border=\"1\" class=\"dataframe\">\n",
       "  <thead>\n",
       "    <tr style=\"text-align: right;\">\n",
       "      <th></th>\n",
       "      <th>Postal_Code</th>\n",
       "      <th>City</th>\n",
       "    </tr>\n",
       "  </thead>\n",
       "  <tbody>\n",
       "    <tr>\n",
       "      <th>0</th>\n",
       "      <td>91910</td>\n",
       "      <td>Chula Vista</td>\n",
       "    </tr>\n",
       "    <tr>\n",
       "      <th>1</th>\n",
       "      <td>92110</td>\n",
       "      <td>San Diego</td>\n",
       "    </tr>\n",
       "    <tr>\n",
       "      <th>2</th>\n",
       "      <td>91910</td>\n",
       "      <td>Chula Vista</td>\n",
       "    </tr>\n",
       "    <tr>\n",
       "      <th>3</th>\n",
       "      <td>92110</td>\n",
       "      <td>San Diego</td>\n",
       "    </tr>\n",
       "    <tr>\n",
       "      <th>4</th>\n",
       "      <td>91910</td>\n",
       "      <td>Chula Vista</td>\n",
       "    </tr>\n",
       "  </tbody>\n",
       "</table>\n",
       "</div>"
      ],
      "text/plain": [
       "   Postal_Code         City\n",
       "0        91910  Chula Vista\n",
       "1        92110    San Diego\n",
       "2        91910  Chula Vista\n",
       "3        92110    San Diego\n",
       "4        91910  Chula Vista"
      ]
     },
     "execution_count": 100,
     "metadata": {},
     "output_type": "execute_result"
    }
   ],
   "source": [
    "house_location_df = clean_realtor_df[['Postal_Code', 'City']].copy()\n",
    "house_location_df.head()"
   ]
  },
  {
   "cell_type": "code",
   "execution_count": 101,
   "metadata": {},
   "outputs": [
    {
     "data": {
      "text/html": [
       "<div>\n",
       "<style scoped>\n",
       "    .dataframe tbody tr th:only-of-type {\n",
       "        vertical-align: middle;\n",
       "    }\n",
       "\n",
       "    .dataframe tbody tr th {\n",
       "        vertical-align: top;\n",
       "    }\n",
       "\n",
       "    .dataframe thead th {\n",
       "        text-align: right;\n",
       "    }\n",
       "</style>\n",
       "<table border=\"1\" class=\"dataframe\">\n",
       "  <thead>\n",
       "    <tr style=\"text-align: right;\">\n",
       "      <th></th>\n",
       "      <th>Date</th>\n",
       "    </tr>\n",
       "  </thead>\n",
       "  <tbody>\n",
       "    <tr>\n",
       "      <th>0</th>\n",
       "      <td>2020-09-01</td>\n",
       "    </tr>\n",
       "    <tr>\n",
       "      <th>1</th>\n",
       "      <td>2020-09-01</td>\n",
       "    </tr>\n",
       "    <tr>\n",
       "      <th>2</th>\n",
       "      <td>2020-08-01</td>\n",
       "    </tr>\n",
       "    <tr>\n",
       "      <th>3</th>\n",
       "      <td>2020-08-01</td>\n",
       "    </tr>\n",
       "    <tr>\n",
       "      <th>4</th>\n",
       "      <td>2020-07-01</td>\n",
       "    </tr>\n",
       "  </tbody>\n",
       "</table>\n",
       "</div>"
      ],
      "text/plain": [
       "        Date\n",
       "0 2020-09-01\n",
       "1 2020-09-01\n",
       "2 2020-08-01\n",
       "3 2020-08-01\n",
       "4 2020-07-01"
      ]
     },
     "execution_count": 101,
     "metadata": {},
     "output_type": "execute_result"
    }
   ],
   "source": [
    "date_df = clean_realtor_df[['Date']].copy()\n",
    "date_df.head()"
   ]
  },
  {
   "cell_type": "code",
   "execution_count": 103,
   "metadata": {},
   "outputs": [],
   "source": [
    "rds_connection_string = \"postgres:BUChoy123!!!@localhost:5432/realtor_house_db\"\n",
    "engine = create_engine(f'postgresql://{rds_connection_string}')"
   ]
  },
  {
   "cell_type": "code",
   "execution_count": 109,
   "metadata": {},
   "outputs": [
    {
     "data": {
      "text/plain": [
       "['zillow_info', 'realtor_info', 'house_location', 'date']"
      ]
     },
     "execution_count": 109,
     "metadata": {},
     "output_type": "execute_result"
    }
   ],
   "source": [
    "engine.table_names()"
   ]
  },
  {
   "cell_type": "code",
   "execution_count": 105,
   "metadata": {},
   "outputs": [],
   "source": [
    "zillow_info_df.to_sql(name='zillow_info', con=engine, if_exists='append', index=False)"
   ]
  },
  {
   "cell_type": "code",
   "execution_count": 106,
   "metadata": {},
   "outputs": [],
   "source": [
    "realtor_info_df.to_sql(name='realtor_info', con=engine, if_exists='append', index=False)"
   ]
  },
  {
   "cell_type": "code",
   "execution_count": 107,
   "metadata": {},
   "outputs": [],
   "source": [
    "house_location_df.to_sql(name='house_location', con=engine, if_exists='append', index=False)"
   ]
  },
  {
   "cell_type": "code",
   "execution_count": 108,
   "metadata": {},
   "outputs": [],
   "source": [
    "date_df.to_sql(name='date', con=engine, if_exists='append', index=False)"
   ]
  },
  {
   "cell_type": "code",
   "execution_count": null,
   "metadata": {},
   "outputs": [],
   "source": []
  }
 ],
 "metadata": {
  "kernelspec": {
   "display_name": "Python 3",
   "language": "python",
   "name": "python3"
  },
  "language_info": {
   "codemirror_mode": {
    "name": "ipython",
    "version": 3
   },
   "file_extension": ".py",
   "mimetype": "text/x-python",
   "name": "python",
   "nbconvert_exporter": "python",
   "pygments_lexer": "ipython3",
   "version": "3.8.3"
  }
 },
 "nbformat": 4,
 "nbformat_minor": 4
}
